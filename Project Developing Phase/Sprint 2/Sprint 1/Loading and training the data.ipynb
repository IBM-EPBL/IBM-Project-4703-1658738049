{
 "cells": [
  {
   "cell_type": "markdown",
   "id": "8440fb42",
   "metadata": {},
   "source": [
    "IMPORTING THE NECESSARY PACKAGES AND LIBRARIES"
   ]
  },
  {
   "cell_type": "code",
   "execution_count": 1,
   "id": "4d21d0e3",
   "metadata": {},
   "outputs": [],
   "source": [
    "import pandas as pd\n",
    "import numpy as np\n",
    "import seaborn as sns\n",
    "import matplotlib.pyplot as plt\n",
    "#PATH PROCESS\n",
    "import os\n",
    "import os.path\n",
    "from pathlib import Path\n",
    "import glob"
   ]
  },
  {
   "cell_type": "markdown",
   "id": "708a5a8c",
   "metadata": {},
   "source": [
    "PATH AND LABELS"
   ]
  },
  {
   "cell_type": "code",
   "execution_count": 2,
   "id": "0b7e75db",
   "metadata": {},
   "outputs": [],
   "source": [
    "Spiral_Train_Path = Path(r\"F:\\IBM College Project\\dataset\\spiral\\training\")\n",
    "Spiral_Test_Path = Path(r\"F:\\IBM College Project\\dataset\\spiral\\testing\")"
   ]
  },
  {
   "cell_type": "code",
   "execution_count": 3,
   "id": "51b60857",
   "metadata": {},
   "outputs": [],
   "source": [
    "Spiral_Train_PNG_Path = list(Spiral_Train_Path.glob(r\"*/*.png\"))\n",
    "Spiral_Test_PNG_Path = list(Spiral_Test_Path.glob(r\"*/*.png\"))"
   ]
  },
  {
   "cell_type": "code",
   "execution_count": 4,
   "id": "0d4446c7",
   "metadata": {},
   "outputs": [],
   "source": [
    "Spiral_Train_PNG_Labels = list(map(lambda x: os.path.split(os.path.split(x)[0])[1],Spiral_Train_PNG_Path))\n",
    "Spiral_Test_PNG_Labels = list(map(lambda x: os.path.split(os.path.split(x)[0])[1],Spiral_Test_PNG_Path))"
   ]
  },
  {
   "cell_type": "markdown",
   "id": "501f6e4d",
   "metadata": {},
   "source": [
    "TRANSFORMATION TO SERIES STRUCTURE"
   ]
  },
  {
   "cell_type": "code",
   "execution_count": 5,
   "id": "53942719",
   "metadata": {},
   "outputs": [],
   "source": [
    "Spiral_Train_PNG_Path_Series = pd.Series(Spiral_Train_PNG_Path,name=\"PNG\").astype(str)\n",
    "Spiral_Train_PNG_Labels_Series = pd.Series(Spiral_Train_PNG_Labels,name=\"CATEGORY\")"
   ]
  },
  {
   "cell_type": "code",
   "execution_count": 6,
   "id": "30e21dc2",
   "metadata": {},
   "outputs": [],
   "source": [
    "Spiral_Test_PNG_Path_Series = pd.Series(Spiral_Test_PNG_Path,name=\"PNG\").astype(str)\n",
    "Spiral_Test_PNG_Labels_Series = pd.Series(Spiral_Test_PNG_Labels,name=\"CATEGORY\")"
   ]
  },
  {
   "cell_type": "markdown",
   "id": "73648a70",
   "metadata": {},
   "source": [
    "TRANSFORMATION TO DATAFRAME STRUCTURE"
   ]
  },
  {
   "cell_type": "code",
   "execution_count": 7,
   "id": "c3c8883e",
   "metadata": {},
   "outputs": [],
   "source": [
    "Main_Spiral_Train_Data = pd.concat([Spiral_Train_PNG_Path_Series,Spiral_Train_PNG_Labels_Series],axis=1)"
   ]
  },
  {
   "cell_type": "code",
   "execution_count": 8,
   "id": "d9937dce",
   "metadata": {},
   "outputs": [
    {
     "name": "stdout",
     "output_type": "stream",
     "text": [
      "                                                  PNG   CATEGORY\n",
      "0   F:\\IBM College Project\\dataset\\spiral\\training...    healthy\n",
      "1   F:\\IBM College Project\\dataset\\spiral\\training...    healthy\n",
      "2   F:\\IBM College Project\\dataset\\spiral\\training...    healthy\n",
      "3   F:\\IBM College Project\\dataset\\spiral\\training...    healthy\n",
      "4   F:\\IBM College Project\\dataset\\spiral\\training...    healthy\n",
      "..                                                ...        ...\n",
      "66  F:\\IBM College Project\\dataset\\spiral\\training...  parkinson\n",
      "67  F:\\IBM College Project\\dataset\\spiral\\training...  parkinson\n",
      "68  F:\\IBM College Project\\dataset\\spiral\\training...  parkinson\n",
      "69  F:\\IBM College Project\\dataset\\spiral\\training...  parkinson\n",
      "70  F:\\IBM College Project\\dataset\\spiral\\training...  parkinson\n",
      "\n",
      "[71 rows x 2 columns]\n"
     ]
    }
   ],
   "source": [
    "print(Main_Spiral_Train_Data.head(-1))"
   ]
  },
  {
   "cell_type": "code",
   "execution_count": 9,
   "id": "a30a7904",
   "metadata": {},
   "outputs": [],
   "source": [
    "Main_Spiral_Test_Data = pd.concat([Spiral_Test_PNG_Path_Series,Spiral_Test_PNG_Labels_Series],axis=1)"
   ]
  },
  {
   "cell_type": "code",
   "execution_count": 10,
   "id": "ee0a70cc",
   "metadata": {},
   "outputs": [
    {
     "name": "stdout",
     "output_type": "stream",
     "text": [
      "                                                  PNG   CATEGORY\n",
      "0   F:\\IBM College Project\\dataset\\spiral\\testing\\...    healthy\n",
      "1   F:\\IBM College Project\\dataset\\spiral\\testing\\...    healthy\n",
      "2   F:\\IBM College Project\\dataset\\spiral\\testing\\...    healthy\n",
      "3   F:\\IBM College Project\\dataset\\spiral\\testing\\...    healthy\n",
      "4   F:\\IBM College Project\\dataset\\spiral\\testing\\...    healthy\n",
      "5   F:\\IBM College Project\\dataset\\spiral\\testing\\...    healthy\n",
      "6   F:\\IBM College Project\\dataset\\spiral\\testing\\...    healthy\n",
      "7   F:\\IBM College Project\\dataset\\spiral\\testing\\...    healthy\n",
      "8   F:\\IBM College Project\\dataset\\spiral\\testing\\...    healthy\n",
      "9   F:\\IBM College Project\\dataset\\spiral\\testing\\...    healthy\n",
      "10  F:\\IBM College Project\\dataset\\spiral\\testing\\...    healthy\n",
      "11  F:\\IBM College Project\\dataset\\spiral\\testing\\...    healthy\n",
      "12  F:\\IBM College Project\\dataset\\spiral\\testing\\...    healthy\n",
      "13  F:\\IBM College Project\\dataset\\spiral\\testing\\...    healthy\n",
      "14  F:\\IBM College Project\\dataset\\spiral\\testing\\...    healthy\n",
      "15  F:\\IBM College Project\\dataset\\spiral\\testing\\...  parkinson\n",
      "16  F:\\IBM College Project\\dataset\\spiral\\testing\\...  parkinson\n",
      "17  F:\\IBM College Project\\dataset\\spiral\\testing\\...  parkinson\n",
      "18  F:\\IBM College Project\\dataset\\spiral\\testing\\...  parkinson\n",
      "19  F:\\IBM College Project\\dataset\\spiral\\testing\\...  parkinson\n",
      "20  F:\\IBM College Project\\dataset\\spiral\\testing\\...  parkinson\n",
      "21  F:\\IBM College Project\\dataset\\spiral\\testing\\...  parkinson\n",
      "22  F:\\IBM College Project\\dataset\\spiral\\testing\\...  parkinson\n",
      "23  F:\\IBM College Project\\dataset\\spiral\\testing\\...  parkinson\n",
      "24  F:\\IBM College Project\\dataset\\spiral\\testing\\...  parkinson\n",
      "25  F:\\IBM College Project\\dataset\\spiral\\testing\\...  parkinson\n",
      "26  F:\\IBM College Project\\dataset\\spiral\\testing\\...  parkinson\n",
      "27  F:\\IBM College Project\\dataset\\spiral\\testing\\...  parkinson\n",
      "28  F:\\IBM College Project\\dataset\\spiral\\testing\\...  parkinson\n"
     ]
    }
   ],
   "source": [
    "print(Main_Spiral_Test_Data.head(-1))"
   ]
  }
 ],
 "metadata": {
  "kernelspec": {
   "display_name": "Python 3 (ipykernel)",
   "language": "python",
   "name": "python3"
  },
  "language_info": {
   "codemirror_mode": {
    "name": "ipython",
    "version": 3
   },
   "file_extension": ".py",
   "mimetype": "text/x-python",
   "name": "python",
   "nbconvert_exporter": "python",
   "pygments_lexer": "ipython3",
   "version": "3.9.7"
  }
 },
 "nbformat": 4,
 "nbformat_minor": 5
}
